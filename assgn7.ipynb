{
 "cells": [
  {
   "cell_type": "markdown",
   "metadata": {},
   "source": [
    "# Swapping keys and values of dictionary"
   ]
  },
  {
   "cell_type": "code",
   "execution_count": 3,
   "metadata": {},
   "outputs": [
    {
     "name": "stdout",
     "output_type": "stream",
     "text": [
      "{'FTP': 21, 'SSH': 22, 'telnet': 23, 'http': 80}\n"
     ]
    }
   ],
   "source": [
    "port1={21: \"FTP\", 22:\"SSH\", 23: \"telnet\", 80: \"http\"}\n",
    "list1,list2=[k for k in port1.keys()],[v for v in port1.values()]\n",
    "print({list2[i]:list1[i] for i in range(min(len(list1),len(list2)))})"
   ]
  },
  {
   "cell_type": "markdown",
   "metadata": {},
   "source": [
    "# Sum of elements of tuple in list"
   ]
  },
  {
   "cell_type": "code",
   "execution_count": 4,
   "metadata": {},
   "outputs": [
    {
     "name": "stdout",
     "output_type": "stream",
     "text": [
      "[3, 7, 11, 9]\n"
     ]
    }
   ],
   "source": [
    "list=[(1,2),(3,4),(5,6),(4,5)]\n",
    "for i in range(len(list)):\n",
    "    a,b=list[i]\n",
    "    list[i]=a+b\n",
    "print(list)"
   ]
  },
  {
   "cell_type": "markdown",
   "metadata": {},
   "source": [
    "# Unpacking elements of list"
   ]
  },
  {
   "cell_type": "code",
   "execution_count": 5,
   "metadata": {},
   "outputs": [
    {
     "name": "stdout",
     "output_type": "stream",
     "text": [
      "[1, 2, 3, 1, 2, 'a', 'hit', 'less']\n"
     ]
    }
   ],
   "source": [
    "list=[(1,2,3),[1,2],[\"a\",\"hit\",\"less\"]]\n",
    "(a,b,c),[d,e],[f,g,h]=list\n",
    "for i in range(3):\n",
    "    list.pop()\n",
    "list.append(a)\n",
    "list.append(b)\n",
    "list.append(c)\n",
    "list.append(d)\n",
    "list.append(e)\n",
    "list.append(f)\n",
    "list.append(g)\n",
    "list.append(h)\n",
    "print(list)"
   ]
  },
  {
   "cell_type": "code",
   "execution_count": null,
   "metadata": {},
   "outputs": [],
   "source": []
  }
 ],
 "metadata": {
  "kernelspec": {
   "display_name": "Python 3",
   "language": "python",
   "name": "python3"
  },
  "language_info": {
   "codemirror_mode": {
    "name": "ipython",
    "version": 3
   },
   "file_extension": ".py",
   "mimetype": "text/x-python",
   "name": "python",
   "nbconvert_exporter": "python",
   "pygments_lexer": "ipython3",
   "version": "3.7.4"
  }
 },
 "nbformat": 4,
 "nbformat_minor": 2
}
