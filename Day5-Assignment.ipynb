{
 "cells": [
  {
   "cell_type": "markdown",
   "metadata": {},
   "source": [
    "# Q1. Sort by increasing order but all zeroes should be at the right hand side.\n",
    "__l=[0,1,2,10,4,1,0,56,2,0,1,3,0,56,0,4]__"
   ]
  },
  {
   "cell_type": "code",
   "execution_count": 2,
   "metadata": {},
   "outputs": [
    {
     "name": "stdout",
     "output_type": "stream",
     "text": [
      "[1, 1, 1, 2, 2, 3, 4, 4, 10, 56, 56, 0, 0, 0, 0, 0]\n"
     ]
    }
   ],
   "source": [
    "l=[0,1,2,10,4,1,0,56,2,0,1,3,0,56,0,4]\n",
    "l.sort()\n",
    "for i in range(l.count(0)):\n",
    "    l.remove(0)\n",
    "    l.append(0)\n",
    "print(\"The sorted list where the 0 is at the right Hand side:\",l)"
   ]
  },
  {
   "cell_type": "markdown",
   "metadata": {},
   "source": [
    "# Q2. Merge this Two sorted lists to produce new list, but use only while loop aur either for loop for one time."
   ]
  },
  {
   "cell_type": "code",
   "execution_count": 36,
   "metadata": {},
   "outputs": [
    {
     "name": "stdout",
     "output_type": "stream",
     "text": [
      "Sorted merge list: [5, 10, 15, 20, 25, 35, 40, 45, 60, 60, 70, 80]\n"
     ]
    }
   ],
   "source": [
    "list1=[10,20,40,60,70,80]\n",
    "list2=[5,15,25,35,45,60]\n",
    "list3=[]\n",
    "i=j=0\n",
    "while i<len(list1) and j<len(list2):\n",
    "    if list1[i]<list2[j]:\n",
    "        list3.append(list1[i])\n",
    "        i+=1   \n",
    "    else:\n",
    "        list3.append(list2[j])\n",
    "        j+=1\n",
    "if i==len(list1)-1 and j!=len(list2)-1:\n",
    "    list3+=list2[j:]\n",
    "else:\n",
    "    list3+=list1[i:]\n",
    "print(\"Sorted merge list:\",list3)"
   ]
  }
 ],
 "metadata": {
  "kernelspec": {
   "display_name": "Python 3",
   "language": "python",
   "name": "python3"
  },
  "language_info": {
   "codemirror_mode": {
    "name": "ipython",
    "version": 3
   },
   "file_extension": ".py",
   "mimetype": "text/x-python",
   "name": "python",
   "nbconvert_exporter": "python",
   "pygments_lexer": "ipython3",
   "version": "3.7.6"
  }
 },
 "nbformat": 4,
 "nbformat_minor": 4
}
